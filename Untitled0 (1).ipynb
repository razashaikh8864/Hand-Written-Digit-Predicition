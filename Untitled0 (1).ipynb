{
  "nbformat": 4,
  "nbformat_minor": 0,
  "metadata": {
    "colab": {
      "provenance": []
    },
    "kernelspec": {
      "name": "python3",
      "display_name": "Python 3"
    },
    "language_info": {
      "name": "python"
    }
  },
  "cells": [
    {
      "cell_type": "markdown",
      "source": [
        "Import Library"
      ],
      "metadata": {
        "id": "aGOLwMkvdWVi"
      }
    },
    {
      "cell_type": "code",
      "execution_count": 1,
      "metadata": {
        "id": "CgOHGW_rczue"
      },
      "outputs": [],
      "source": [
        "import pandas as pd\n"
      ]
    },
    {
      "cell_type": "code",
      "source": [
        "import numpy as np\n"
      ],
      "metadata": {
        "id": "nhtpSOapdBKe"
      },
      "execution_count": 2,
      "outputs": []
    },
    {
      "cell_type": "code",
      "source": [
        "import matplotlib.pyplot as plt"
      ],
      "metadata": {
        "id": "CyGXCqbPdHej"
      },
      "execution_count": 3,
      "outputs": []
    },
    {
      "cell_type": "markdown",
      "source": [
        "Import Data"
      ],
      "metadata": {
        "id": "1C_wX-mxdTSm"
      }
    },
    {
      "cell_type": "code",
      "source": [
        "from sklearn.datasets import load_digits"
      ],
      "metadata": {
        "id": "wdZx4325dahZ"
      },
      "execution_count": 4,
      "outputs": []
    },
    {
      "cell_type": "code",
      "source": [
        "df = load_digits()"
      ],
      "metadata": {
        "id": "w0tjIbmxdmhs"
      },
      "execution_count": 5,
      "outputs": []
    },
    {
      "cell_type": "code",
      "source": [
        "_, axes = plt.subplots(nrows=1 ,ncols=4, figsize=(10,3))\n",
        "for ax , image,label in zip(axes, df.images ,df.target):\n",
        "  ax.set_axis_off()\n",
        "  ax.imshow(image, cmap=plt.cm.gray_r, interpolation=\"nearest\")\n",
        "  ax.set_title(\"Training : %i\" % label )"
      ],
      "metadata": {
        "colab": {
          "base_uri": "https://localhost:8080/",
          "height": 227
        },
        "id": "DYrVVgLkdvl3",
        "outputId": "9168812d-7e0f-4e3a-ad37-59c03ae81e54"
      },
      "execution_count": 6,
      "outputs": [
        {
          "output_type": "display_data",
          "data": {
            "text/plain": [
              "<Figure size 1000x300 with 4 Axes>"
            ],
            "image/png": "[encoded data removed]"
          },
          "metadata": {}
        }
      ]
    },
    {
      "cell_type": "markdown",
      "source": [
        "Data Preprocessing"
      ],
      "metadata": {
        "id": "pCJj4J8XewsH"
      }
    },
    {
      "cell_type": "code",
      "source": [
        "df.images.shape"
      ],
      "metadata": {
        "colab": {
          "base_uri": "https://localhost:8080/"
        },
        "id": "XIGHfUcbezt2",
        "outputId": "e7d6ffc4-f225-4e71-9620-6d38b84609e0"
      },
      "execution_count": 8,
      "outputs": [
        {
          "output_type": "execute_result",
          "data": {
            "text/plain": [
              "(1797, 8, 8)"
            ]
          },
          "metadata": {},
          "execution_count": 8
        }
      ]
    },
    {
      "cell_type": "code",
      "source": [
        "df.images[0]"
      ],
      "metadata": {
        "colab": {
          "base_uri": "https://localhost:8080/"
        },
        "id": "Hs4QySwIfJUj",
        "outputId": "20f10aaf-fec7-430c-cb42-d09b500a37f3"
      },
      "execution_count": 10,
      "outputs": [
        {
          "output_type": "execute_result",
          "data": {
            "text/plain": [
              "array([[ 0.,  0.,  5., 13.,  9.,  1.,  0.,  0.],\n",
              "       [ 0.,  0., 13., 15., 10., 15.,  5.,  0.],\n",
              "       [ 0.,  3., 15.,  2.,  0., 11.,  8.,  0.],\n",
              "       [ 0.,  4., 12.,  0.,  0.,  8.,  8.,  0.],\n",
              "       [ 0.,  5.,  8.,  0.,  0.,  9.,  8.,  0.],\n",
              "       [ 0.,  4., 11.,  0.,  1., 12.,  7.,  0.],\n",
              "       [ 0.,  2., 14.,  5., 10., 12.,  0.,  0.],\n",
              "       [ 0.,  0.,  6., 13., 10.,  0.,  0.,  0.]])"
            ]
          },
          "metadata": {},
          "execution_count": 10
        }
      ]
    },
    {
      "cell_type": "code",
      "source": [
        "df.images[0].shape"
      ],
      "metadata": {
        "colab": {
          "base_uri": "https://localhost:8080/"
        },
        "id": "YieIgICrfQ03",
        "outputId": "247f8381-cf74-49d0-a075-654fa64bf06f"
      },
      "execution_count": 11,
      "outputs": [
        {
          "output_type": "execute_result",
          "data": {
            "text/plain": [
              "(8, 8)"
            ]
          },
          "metadata": {},
          "execution_count": 11
        }
      ]
    },
    {
      "cell_type": "code",
      "source": [
        "len(df.images)"
      ],
      "metadata": {
        "colab": {
          "base_uri": "https://localhost:8080/"
        },
        "id": "i4zFVu-gfXXp",
        "outputId": "26471bfa-86ab-431a-ae46-9acdbc8253cd"
      },
      "execution_count": 12,
      "outputs": [
        {
          "output_type": "execute_result",
          "data": {
            "text/plain": [
              "1797"
            ]
          },
          "metadata": {},
          "execution_count": 12
        }
      ]
    },
    {
      "cell_type": "code",
      "source": [
        "n_samples = len(df.images)\n",
        "data = df.images.reshape((n_samples,-1))"
      ],
      "metadata": {
        "id": "l365sm4hfenc"
      },
      "execution_count": 13,
      "outputs": []
    },
    {
      "cell_type": "code",
      "source": [
        "data[0]"
      ],
      "metadata": {
        "colab": {
          "base_uri": "https://localhost:8080/"
        },
        "id": "ti7UQ6rWft-E",
        "outputId": "0e6163a3-21b9-408c-97fb-e1a5b7eb7d98"
      },
      "execution_count": 14,
      "outputs": [
        {
          "output_type": "execute_result",
          "data": {
            "text/plain": [
              "array([ 0.,  0.,  5., 13.,  9.,  1.,  0.,  0.,  0.,  0., 13., 15., 10.,\n",
              "       15.,  5.,  0.,  0.,  3., 15.,  2.,  0., 11.,  8.,  0.,  0.,  4.,\n",
              "       12.,  0.,  0.,  8.,  8.,  0.,  0.,  5.,  8.,  0.,  0.,  9.,  8.,\n",
              "        0.,  0.,  4., 11.,  0.,  1., 12.,  7.,  0.,  0.,  2., 14.,  5.,\n",
              "       10., 12.,  0.,  0.,  0.,  0.,  6., 13., 10.,  0.,  0.,  0.])"
            ]
          },
          "metadata": {},
          "execution_count": 14
        }
      ]
    },
    {
      "cell_type": "code",
      "source": [
        "data[0].shape"
      ],
      "metadata": {
        "colab": {
          "base_uri": "https://localhost:8080/"
        },
        "id": "piQUp2iCfzVX",
        "outputId": "7425827f-d18a-4201-990b-a35eda52ff0e"
      },
      "execution_count": 15,
      "outputs": [
        {
          "output_type": "execute_result",
          "data": {
            "text/plain": [
              "(64,)"
            ]
          },
          "metadata": {},
          "execution_count": 15
        }
      ]
    },
    {
      "cell_type": "code",
      "source": [
        "data.shape"
      ],
      "metadata": {
        "colab": {
          "base_uri": "https://localhost:8080/"
        },
        "id": "67q69IOKf4O9",
        "outputId": "1ff2a2e7-f6d5-4964-bb04-50f67f4ca111"
      },
      "execution_count": 16,
      "outputs": [
        {
          "output_type": "execute_result",
          "data": {
            "text/plain": [
              "(1797, 64)"
            ]
          },
          "metadata": {},
          "execution_count": 16
        }
      ]
    },
    {
      "cell_type": "code",
      "source": [
        "data.min()"
      ],
      "metadata": {
        "colab": {
          "base_uri": "https://localhost:8080/"
        },
        "id": "p5NsDuxAf6uu",
        "outputId": "778bfe5b-23c6-4cf4-c346-b32dc5f1bf5c"
      },
      "execution_count": 17,
      "outputs": [
        {
          "output_type": "execute_result",
          "data": {
            "text/plain": [
              "0.0"
            ]
          },
          "metadata": {},
          "execution_count": 17
        }
      ]
    },
    {
      "cell_type": "code",
      "source": [
        "data.max()"
      ],
      "metadata": {
        "colab": {
          "base_uri": "https://localhost:8080/"
        },
        "id": "RN_6VT2Xf9nC",
        "outputId": "8bb1afb2-09f3-4a57-fa96-1cccdc6586db"
      },
      "execution_count": 18,
      "outputs": [
        {
          "output_type": "execute_result",
          "data": {
            "text/plain": [
              "16.0"
            ]
          },
          "metadata": {},
          "execution_count": 18
        }
      ]
    },
    {
      "cell_type": "code",
      "source": [
        "data = data/16"
      ],
      "metadata": {
        "id": "sTwoik6agB4b"
      },
      "execution_count": 19,
      "outputs": []
    },
    {
      "cell_type": "code",
      "source": [
        "data.min()"
      ],
      "metadata": {
        "colab": {
          "base_uri": "https://localhost:8080/"
        },
        "id": "3OrpvjjKgGLG",
        "outputId": "5bbe81dc-ff18-4991-a1bb-749947908601"
      },
      "execution_count": 20,
      "outputs": [
        {
          "output_type": "execute_result",
          "data": {
            "text/plain": [
              "0.0"
            ]
          },
          "metadata": {},
          "execution_count": 20
        }
      ]
    },
    {
      "cell_type": "code",
      "source": [
        "data.max()"
      ],
      "metadata": {
        "colab": {
          "base_uri": "https://localhost:8080/"
        },
        "id": "KR9LiDMggL66",
        "outputId": "420293d5-e6ab-4c49-91b9-34279f332127"
      },
      "execution_count": 21,
      "outputs": [
        {
          "output_type": "execute_result",
          "data": {
            "text/plain": [
              "1.0"
            ]
          },
          "metadata": {},
          "execution_count": 21
        }
      ]
    },
    {
      "cell_type": "code",
      "source": [
        "data[0]"
      ],
      "metadata": {
        "colab": {
          "base_uri": "https://localhost:8080/"
        },
        "id": "2ih6YY5IgQUC",
        "outputId": "a84b10fc-7b3d-48cf-8881-90ae0c37a0b4"
      },
      "execution_count": 22,
      "outputs": [
        {
          "output_type": "execute_result",
          "data": {
            "text/plain": [
              "array([0.    , 0.    , 0.3125, 0.8125, 0.5625, 0.0625, 0.    , 0.    ,\n",
              "       0.    , 0.    , 0.8125, 0.9375, 0.625 , 0.9375, 0.3125, 0.    ,\n",
              "       0.    , 0.1875, 0.9375, 0.125 , 0.    , 0.6875, 0.5   , 0.    ,\n",
              "       0.    , 0.25  , 0.75  , 0.    , 0.    , 0.5   , 0.5   , 0.    ,\n",
              "       0.    , 0.3125, 0.5   , 0.    , 0.    , 0.5625, 0.5   , 0.    ,\n",
              "       0.    , 0.25  , 0.6875, 0.    , 0.0625, 0.75  , 0.4375, 0.    ,\n",
              "       0.    , 0.125 , 0.875 , 0.3125, 0.625 , 0.75  , 0.    , 0.    ,\n",
              "       0.    , 0.    , 0.375 , 0.8125, 0.625 , 0.    , 0.    , 0.    ])"
            ]
          },
          "metadata": {},
          "execution_count": 22
        }
      ]
    },
    {
      "cell_type": "markdown",
      "source": [
        "Train Test Split Data"
      ],
      "metadata": {
        "id": "4801XVVUgWFy"
      }
    },
    {
      "cell_type": "code",
      "source": [
        "from sklearn.model_selection import train_test_split"
      ],
      "metadata": {
        "id": "kQn-6ORlgarK"
      },
      "execution_count": 23,
      "outputs": []
    },
    {
      "cell_type": "code",
      "source": [
        "X_train , X_test , y_train ,y_test = train_test_split(data,df.target,test_size=0.3)"
      ],
      "metadata": {
        "id": "hjI0RIWRgl9X"
      },
      "execution_count": 24,
      "outputs": []
    },
    {
      "cell_type": "code",
      "source": [
        "X_train.shape , X_test.shape , y_train.shape, y_test.shape"
      ],
      "metadata": {
        "colab": {
          "base_uri": "https://localhost:8080/"
        },
        "id": "1NzJCw6Kg5xS",
        "outputId": "405d8cf7-a0b0-4885-bdfa-731bb898e025"
      },
      "execution_count": 26,
      "outputs": [
        {
          "output_type": "execute_result",
          "data": {
            "text/plain": [
              "((1257, 64), (540, 64), (1257,), (540,))"
            ]
          },
          "metadata": {},
          "execution_count": 26
        }
      ]
    },
    {
      "cell_type": "markdown",
      "source": [
        "Random Forest Model"
      ],
      "metadata": {
        "id": "yVcymCPYhNTS"
      }
    },
    {
      "cell_type": "code",
      "source": [
        "from sklearn.ensemble import RandomForestClassifier\n",
        "\n",
        "\n"
      ],
      "metadata": {
        "id": "HK1eylr8hPo3"
      },
      "execution_count": 33,
      "outputs": []
    },
    {
      "cell_type": "code",
      "source": [
        "rf= RandomForestClassifier()"
      ],
      "metadata": {
        "id": "GY0GciNWhYfF"
      },
      "execution_count": 34,
      "outputs": []
    },
    {
      "cell_type": "code",
      "source": [
        "rf.fit(X_train, y_train)"
      ],
      "metadata": {
        "colab": {
          "base_uri": "https://localhost:8080/",
          "height": 74
        },
        "id": "qNdumwLBhozt",
        "outputId": "b732a079-a350-4b74-e05a-4780221fb273"
      },
      "execution_count": 35,
      "outputs": [
        {
          "output_type": "execute_result",
          "data": {
            "text/plain": [
              "RandomForestClassifier()"
            ],
            "text/html": [
              "<style>#sk-container-id-1 {color: black;background-color: white;}#sk-container-id-1 pre{padding: 0;}#sk-container-id-1 div.sk-toggleable {background-color: white;}#sk-container-id-1 label.sk-toggleable__label {cursor: pointer;display: block;width: 100%;margin-bottom: 0;padding: 0.3em;box-sizing: border-box;text-align: center;}#sk-container-id-1 label.sk-toggleable__label-arrow:before {content: \"▸\";float: left;margin-right: 0.25em;color: #696969;}#sk-container-id-1 label.sk-toggleable__label-arrow:hover:before {color: black;}#sk-container-id-1 div.sk-estimator:hover label.sk-toggleable__label-arrow:before {color: black;}#sk-container-id-1 div.sk-toggleable__content {max-height: 0;max-width: 0;overflow: hidden;text-align: left;background-color: #f0f8ff;}#sk-container-id-1 div.sk-toggleable__content pre {margin: 0.2em;color: black;border-radius: 0.25em;background-color: #f0f8ff;}#sk-container-id-1 input.sk-toggleable__control:checked~div.sk-toggleable__content {max-height: 200px;max-width: 100%;overflow: auto;}#sk-container-id-1 input.sk-toggleable__control:checked~label.sk-toggleable__label-arrow:before {content: \"▾\";}#sk-container-id-1 div.sk-estimator input.sk-toggleable__control:checked~label.sk-toggleable__label {background-color: #d4ebff;}#sk-container-id-1 div.sk-label input.sk-toggleable__control:checked~label.sk-toggleable__label {background-color: #d4ebff;}#sk-container-id-1 input.sk-hidden--visually {border: 0;clip: rect(1px 1px 1px 1px);clip: rect(1px, 1px, 1px, 1px);height: 1px;margin: -1px;overflow: hidden;padding: 0;position: absolute;width: 1px;}#sk-container-id-1 div.sk-estimator {font-family: monospace;background-color: #f0f8ff;border: 1px dotted black;border-radius: 0.25em;box-sizing: border-box;margin-bottom: 0.5em;}#sk-container-id-1 div.sk-estimator:hover {background-color: #d4ebff;}#sk-container-id-1 div.sk-parallel-item::after {content: \"\";width: 100%;border-bottom: 1px solid gray;flex-grow: 1;}#sk-container-id-1 div.sk-label:hover label.sk-toggleable__label {background-color: #d4ebff;}#sk-container-id-1 div.sk-serial::before {content: \"\";position: absolute;border-left: 1px solid gray;box-sizing: border-box;top: 0;bottom: 0;left: 50%;z-index: 0;}#sk-container-id-1 div.sk-serial {display: flex;flex-direction: column;align-items: center;background-color: white;padding-right: 0.2em;padding-left: 0.2em;position: relative;}#sk-container-id-1 div.sk-item {position: relative;z-index: 1;}#sk-container-id-1 div.sk-parallel {display: flex;align-items: stretch;justify-content: center;background-color: white;position: relative;}#sk-container-id-1 div.sk-item::before, #sk-container-id-1 div.sk-parallel-item::before {content: \"\";position: absolute;border-left: 1px solid gray;box-sizing: border-box;top: 0;bottom: 0;left: 50%;z-index: -1;}#sk-container-id-1 div.sk-parallel-item {display: flex;flex-direction: column;z-index: 1;position: relative;background-color: white;}#sk-container-id-1 div.sk-parallel-item:first-child::after {align-self: flex-end;width: 50%;}#sk-container-id-1 div.sk-parallel-item:last-child::after {align-self: flex-start;width: 50%;}#sk-container-id-1 div.sk-parallel-item:only-child::after {width: 0;}#sk-container-id-1 div.sk-dashed-wrapped {border: 1px dashed gray;margin: 0 0.4em 0.5em 0.4em;box-sizing: border-box;padding-bottom: 0.4em;background-color: white;}#sk-container-id-1 div.sk-label label {font-family: monospace;font-weight: bold;display: inline-block;line-height: 1.2em;}#sk-container-id-1 div.sk-label-container {text-align: center;}#sk-container-id-1 div.sk-container {/* jupyter's `normalize.less` sets `[hidden] { display: none; }` but bootstrap.min.css set `[hidden] { display: none !important; }` so we also need the `!important` here to be able to override the default hidden behavior on the sphinx rendered scikit-learn.org. See: https://github.com/scikit-learn/scikit-learn/issues/21755 */display: inline-block !important;position: relative;}#sk-container-id-1 div.sk-text-repr-fallback {display: none;}</style><div id=\"sk-container-id-1\" class=\"sk-top-container\"><div class=\"sk-text-repr-fallback\"><pre>RandomForestClassifier()</pre><b>In a Jupyter environment, please rerun this cell to show the HTML representation or trust the notebook. <br />On GitHub, the HTML representation is unable to render, please try loading this page with nbviewer.org.</b></div><div class=\"sk-container\" hidden><div class=\"sk-item\"><div class=\"sk-estimator sk-toggleable\"><input class=\"sk-toggleable__control sk-hidden--visually\" id=\"sk-estimator-id-1\" type=\"checkbox\" checked><label for=\"sk-estimator-id-1\" class=\"sk-toggleable__label sk-toggleable__label-arrow\">RandomForestClassifier</label><div class=\"sk-toggleable__content\"><pre>RandomForestClassifier()</pre></div></div></div></div></div>"
            ]
          },
          "metadata": {},
          "execution_count": 35
        }
      ]
    },
    {
      "cell_type": "markdown",
      "source": [
        "Predict Data Test"
      ],
      "metadata": {
        "id": "djeFLbGwilpK"
      }
    },
    {
      "cell_type": "code",
      "source": [
        "y_pred =rf.predict(X_test)"
      ],
      "metadata": {
        "id": "rMItvc5qir7B"
      },
      "execution_count": 36,
      "outputs": []
    },
    {
      "cell_type": "code",
      "source": [
        "y_pred"
      ],
      "metadata": {
        "colab": {
          "base_uri": "https://localhost:8080/"
        },
        "id": "qg-4UpuXiz6t",
        "outputId": "49d9383c-e4e1-4aae-ea4f-a6daf234a465"
      },
      "execution_count": 37,
      "outputs": [
        {
          "output_type": "execute_result",
          "data": {
            "text/plain": [
              "array([4, 5, 0, 4, 1, 9, 3, 5, 5, 9, 7, 8, 6, 4, 3, 7, 7, 1, 1, 3, 8, 9,\n",
              "       2, 5, 1, 2, 3, 9, 3, 5, 5, 0, 7, 6, 9, 3, 9, 4, 4, 3, 7, 9, 2, 1,\n",
              "       5, 2, 7, 5, 7, 5, 8, 9, 6, 4, 7, 1, 1, 0, 4, 7, 5, 3, 5, 2, 0, 1,\n",
              "       6, 0, 1, 9, 0, 5, 8, 9, 4, 8, 4, 9, 3, 3, 6, 8, 2, 4, 8, 8, 8, 7,\n",
              "       0, 4, 9, 2, 6, 5, 0, 1, 4, 8, 0, 6, 4, 1, 4, 9, 1, 4, 4, 5, 9, 5,\n",
              "       4, 6, 5, 1, 0, 0, 3, 8, 7, 3, 1, 0, 1, 7, 0, 5, 2, 1, 1, 3, 0, 1,\n",
              "       1, 0, 4, 7, 6, 2, 3, 6, 3, 6, 8, 7, 7, 0, 6, 5, 9, 3, 7, 0, 3, 9,\n",
              "       9, 5, 0, 3, 6, 2, 2, 1, 2, 4, 0, 4, 3, 0, 6, 5, 0, 5, 5, 3, 2, 5,\n",
              "       6, 1, 2, 6, 5, 6, 9, 9, 4, 3, 0, 7, 6, 2, 2, 1, 1, 0, 8, 6, 5, 1,\n",
              "       5, 8, 6, 1, 7, 8, 2, 5, 8, 9, 3, 8, 2, 6, 2, 8, 5, 8, 3, 6, 4, 4,\n",
              "       8, 0, 9, 4, 6, 9, 9, 6, 8, 9, 1, 6, 3, 9, 5, 1, 0, 0, 5, 6, 3, 3,\n",
              "       2, 8, 6, 3, 8, 8, 3, 6, 5, 2, 1, 4, 5, 2, 5, 4, 6, 3, 2, 2, 1, 0,\n",
              "       8, 1, 5, 2, 9, 7, 7, 8, 0, 7, 9, 5, 9, 5, 0, 8, 5, 7, 9, 6, 0, 5,\n",
              "       1, 9, 1, 8, 4, 8, 9, 6, 5, 1, 4, 1, 2, 4, 2, 6, 6, 0, 6, 9, 6, 1,\n",
              "       1, 5, 9, 1, 6, 8, 0, 8, 1, 1, 2, 1, 6, 8, 9, 4, 0, 2, 2, 2, 9, 4,\n",
              "       1, 5, 5, 0, 8, 4, 7, 3, 1, 3, 9, 0, 7, 7, 7, 1, 1, 3, 6, 7, 5, 8,\n",
              "       7, 3, 7, 2, 4, 1, 6, 2, 7, 6, 5, 9, 5, 8, 4, 4, 5, 3, 9, 1, 7, 9,\n",
              "       7, 1, 8, 5, 1, 6, 2, 0, 4, 6, 8, 9, 0, 7, 7, 8, 5, 5, 5, 7, 6, 0,\n",
              "       7, 8, 8, 0, 6, 7, 7, 9, 0, 7, 1, 4, 9, 8, 4, 1, 7, 6, 6, 0, 0, 6,\n",
              "       0, 5, 5, 7, 2, 0, 4, 8, 6, 1, 0, 9, 7, 8, 1, 6, 9, 6, 3, 0, 5, 1,\n",
              "       7, 4, 6, 2, 8, 0, 2, 4, 0, 2, 2, 8, 2, 9, 4, 4, 1, 0, 1, 2, 2, 2,\n",
              "       8, 5, 2, 2, 7, 6, 3, 0, 0, 6, 3, 5, 4, 3, 0, 0, 1, 3, 4, 6, 8, 8,\n",
              "       7, 4, 1, 1, 3, 9, 3, 9, 9, 6, 4, 2, 3, 5, 2, 7, 2, 0, 2, 8, 6, 8,\n",
              "       3, 9, 6, 7, 3, 1, 4, 9, 3, 8, 7, 8, 4, 6, 2, 2, 0, 3, 5, 5, 7, 5,\n",
              "       2, 6, 3, 8, 3, 8, 7, 2, 0, 6, 0, 6])"
            ]
          },
          "metadata": {},
          "execution_count": 37
        }
      ]
    },
    {
      "cell_type": "markdown",
      "source": [
        "Model Accuracy"
      ],
      "metadata": {
        "id": "e6HZPT1ii8D8"
      }
    },
    {
      "cell_type": "code",
      "source": [
        "from sklearn.metrics import confusion_matrix , classification_report"
      ],
      "metadata": {
        "id": "jXrdl_0Ei_tE"
      },
      "execution_count": 38,
      "outputs": []
    },
    {
      "cell_type": "code",
      "source": [
        "confusion_matrix(y_test,y_pred)"
      ],
      "metadata": {
        "colab": {
          "base_uri": "https://localhost:8080/"
        },
        "id": "15wwMWDOjIci",
        "outputId": "289e707b-604a-4bf0-b310-efccf7b64219"
      },
      "execution_count": 39,
      "outputs": [
        {
          "output_type": "execute_result",
          "data": {
            "text/plain": [
              "array([[57,  0,  0,  0,  0,  0,  0,  0,  0,  0],\n",
              "       [ 0, 59,  0,  0,  0,  1,  0,  0,  0,  0],\n",
              "       [ 0,  0, 52,  0,  0,  0,  0,  0,  0,  0],\n",
              "       [ 0,  0,  0, 47,  0,  0,  0,  0,  2,  0],\n",
              "       [ 0,  0,  0,  0, 49,  0,  0,  0,  1,  0],\n",
              "       [ 0,  0,  0,  0,  0, 55,  0,  0,  0,  1],\n",
              "       [ 0,  0,  0,  0,  0,  1, 61,  0,  1,  0],\n",
              "       [ 0,  0,  0,  0,  0,  0,  0, 49,  0,  0],\n",
              "       [ 0,  0,  1,  1,  0,  0,  0,  0, 50,  0],\n",
              "       [ 0,  0,  0,  0,  0,  2,  0,  1,  0, 49]])"
            ]
          },
          "metadata": {},
          "execution_count": 39
        }
      ]
    },
    {
      "cell_type": "code",
      "source": [
        "print(classification_report(y_test,y_pred))"
      ],
      "metadata": {
        "colab": {
          "base_uri": "https://localhost:8080/"
        },
        "id": "qxKp3RdVjPrS",
        "outputId": "8690f3a1-cace-49fa-a5ff-45bb20cdc634"
      },
      "execution_count": 40,
      "outputs": [
        {
          "output_type": "stream",
          "name": "stdout",
          "text": [
            "              precision    recall  f1-score   support\n",
            "\n",
            "           0       1.00      1.00      1.00        57\n",
            "           1       1.00      0.98      0.99        60\n",
            "           2       0.98      1.00      0.99        52\n",
            "           3       0.98      0.96      0.97        49\n",
            "           4       1.00      0.98      0.99        50\n",
            "           5       0.93      0.98      0.96        56\n",
            "           6       1.00      0.97      0.98        63\n",
            "           7       0.98      1.00      0.99        49\n",
            "           8       0.93      0.96      0.94        52\n",
            "           9       0.98      0.94      0.96        52\n",
            "\n",
            "    accuracy                           0.98       540\n",
            "   macro avg       0.98      0.98      0.98       540\n",
            "weighted avg       0.98      0.98      0.98       540\n",
            "\n"
          ]
        }
      ]
    },
    {
      "cell_type": "code",
      "source": [
        "print(classification_report(y_test,y_pred))"
      ],
      "metadata": {
        "colab": {
          "base_uri": "https://localhost:8080/"
        },
        "id": "fb4if4QsjZs9",
        "outputId": "5583791f-20df-4bc7-b886-6797285611d7"
      },
      "execution_count": 41,
      "outputs": [
        {
          "output_type": "stream",
          "name": "stdout",
          "text": [
            "              precision    recall  f1-score   support\n",
            "\n",
            "           0       1.00      1.00      1.00        57\n",
            "           1       1.00      0.98      0.99        60\n",
            "           2       0.98      1.00      0.99        52\n",
            "           3       0.98      0.96      0.97        49\n",
            "           4       1.00      0.98      0.99        50\n",
            "           5       0.93      0.98      0.96        56\n",
            "           6       1.00      0.97      0.98        63\n",
            "           7       0.98      1.00      0.99        49\n",
            "           8       0.93      0.96      0.94        52\n",
            "           9       0.98      0.94      0.96        52\n",
            "\n",
            "    accuracy                           0.98       540\n",
            "   macro avg       0.98      0.98      0.98       540\n",
            "weighted avg       0.98      0.98      0.98       540\n",
            "\n"
          ]
        }
      ]
    },
    {
      "cell_type": "markdown",
      "source": [
        "## **Explanation**"
      ],
      "metadata": {
        "id": "VE-u0WoPkF0h"
      }
    },
    {
      "cell_type": "markdown",
      "source": [
        "Handwritten digit prediction in machine learning typically involves the use of a type of algorithm called a classifier, and one popular approach for this task is the use of neural networks,he first step is to have a dataset containing images of handwritten digits along with their corresponding labels. One well-known dataset for this task is the MNIST dataset, which consists of 28x28 pixel grayscale images of handwritten digits,he images in the dataset are often preprocessed to ensure uniformity and to make it easier for the model to learn. Common preprocessing steps include resizing the images, normalizing pixel values, and flattening the images into a 1D array,Neural networks are commonly used for handwritten digit prediction. A simple neural network architecture for this task is a feedforward neural network with one or more hidden layers. The input layer has neurons corresponding to the flattened image pixels, and the output layer has neurons corresponding to the possible digit classes"
      ],
      "metadata": {
        "id": "VTvv11sSkJEi"
      }
    }
  ]
}